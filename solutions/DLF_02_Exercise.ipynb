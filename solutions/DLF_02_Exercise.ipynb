{
 "cells": [
  {
   "cell_type": "markdown",
   "id": "56356fa6",
   "metadata": {},
   "source": [
    "# DLF: 02 Basics\n",
    "\n",
    "Task: Implement a simple neural network with `numpy` only:\n",
    "* Use the digits dataset (`from sklearn.datasets import load_digits`).\n",
    "* 1 hidden layer with 20 neurons\n",
    "* Sigmoid activation function\n",
    "* randomly init weights (why?)\n",
    "* implement at least a single forward pass through the network\n",
    "* batch-size: 32\n",
    "* try to use vector ops\n",
    "\n",
    "Note: The dataset has 10 classes:\n",
    "  * 1-hot encode them,\n",
    "  * or do binary classification of `5` vs `7`"
   ]
  },
  {
   "cell_type": "markdown",
   "id": "ec6a3f3b",
   "metadata": {},
   "source": [
    "## Imports"
   ]
  },
  {
   "cell_type": "code",
   "execution_count": 1,
   "id": "ef34420a",
   "metadata": {},
   "outputs": [],
   "source": [
    "import numpy as np\n",
    "from sklearn.model_selection import train_test_split\n",
    "from sklearn.preprocessing import OneHotEncoder\n",
    "from sklearn.datasets import load_digits\n",
    "\n",
    "from matplotlib import pyplot as plt\n",
    "%matplotlib inline"
   ]
  },
  {
   "cell_type": "markdown",
   "id": "9b7b6c7d",
   "metadata": {},
   "source": [
    "## Fiddlings"
   ]
  },
  {
   "cell_type": "markdown",
   "id": "1ca84766",
   "metadata": {},
   "source": [
    "### numpy vectors / arrays"
   ]
  },
  {
   "cell_type": "code",
   "execution_count": 2,
   "id": "7cb329a3",
   "metadata": {},
   "outputs": [],
   "source": [
    "x = np.array([[1,2,3]])"
   ]
  },
  {
   "cell_type": "code",
   "execution_count": 3,
   "id": "983cf21c",
   "metadata": {},
   "outputs": [
    {
     "data": {
      "text/plain": [
       "array([[1],\n",
       "       [2],\n",
       "       [3]])"
      ]
     },
     "execution_count": 3,
     "metadata": {},
     "output_type": "execute_result"
    }
   ],
   "source": [
    "x = np.array([1,2,3]).reshape(-1, 1)\n",
    "x"
   ]
  },
  {
   "cell_type": "code",
   "execution_count": 4,
   "id": "a0366dd5",
   "metadata": {},
   "outputs": [
    {
     "data": {
      "text/plain": [
       "array([[1, 2, 3]])"
      ]
     },
     "execution_count": 4,
     "metadata": {},
     "output_type": "execute_result"
    }
   ],
   "source": [
    "x.T"
   ]
  },
  {
   "cell_type": "markdown",
   "id": "24b0c184",
   "metadata": {},
   "source": [
    "### python for loops vs vector ops"
   ]
  },
  {
   "cell_type": "code",
   "execution_count": 5,
   "id": "27dc9a2f",
   "metadata": {},
   "outputs": [],
   "source": [
    "X = np.random.randn(10000, 64)  # approx same dims as our dataset later... (~10k samples, 64px)\n",
    "W = np.random.randn(64, 20)  # each of the 64 inputs go to one of 20 neurons in the 1st hidden layer"
   ]
  },
  {
   "cell_type": "code",
   "execution_count": 6,
   "id": "2f87982c",
   "metadata": {},
   "outputs": [],
   "source": [
    "Z_loop = np.zeros([10000, 20])\n",
    "for i in range(10000):\n",
    "    for j in range(20):\n",
    "        for k in range(64):\n",
    "            Z_loop[i, j] += X[i, k] * W[k, j]"
   ]
  },
  {
   "cell_type": "code",
   "execution_count": 7,
   "id": "13a5ff5a",
   "metadata": {},
   "outputs": [
    {
     "name": "stdout",
     "output_type": "stream",
     "text": [
      "4.15 s ± 48.1 ms per loop (mean ± std. dev. of 7 runs, 1 loop each)\n"
     ]
    }
   ],
   "source": [
    "%%timeit\n",
    "Z_loop = np.zeros([10000, 20])\n",
    "for i in range(10000):\n",
    "    for j in range(20):\n",
    "        for k in range(64):\n",
    "            Z_loop[i, j] += X[i, k] * W[k, j]"
   ]
  },
  {
   "cell_type": "code",
   "execution_count": 8,
   "id": "80681af0",
   "metadata": {},
   "outputs": [],
   "source": [
    "Z_vec = np.dot(X, W)"
   ]
  },
  {
   "cell_type": "code",
   "execution_count": 9,
   "id": "1695470a",
   "metadata": {},
   "outputs": [
    {
     "name": "stdout",
     "output_type": "stream",
     "text": [
      "4.36 ms ± 694 µs per loop (mean ± std. dev. of 7 runs, 100 loops each)\n"
     ]
    }
   ],
   "source": [
    "%%timeit\n",
    "Z_vec = np.dot(X, W)"
   ]
  },
  {
   "cell_type": "code",
   "execution_count": 10,
   "id": "7f3611ae",
   "metadata": {},
   "outputs": [
    {
     "data": {
      "text/plain": [
       "0"
      ]
     },
     "execution_count": 10,
     "metadata": {},
     "output_type": "execute_result"
    }
   ],
   "source": [
    "# calculates the same?\n",
    "np.sum((Z_vec - Z_loop)**2 > 0.0000000000001)"
   ]
  },
  {
   "cell_type": "markdown",
   "id": "3d755734",
   "metadata": {},
   "source": [
    "### playing around with softmax"
   ]
  },
  {
   "cell_type": "code",
   "execution_count": 11,
   "id": "a256ac7a",
   "metadata": {},
   "outputs": [],
   "source": [
    "def softmax(x):\n",
    "    return np.exp(x) / np.sum(np.exp(x), axis=1).reshape(-1, 1)"
   ]
  },
  {
   "cell_type": "code",
   "execution_count": 12,
   "id": "5d642ce6",
   "metadata": {},
   "outputs": [
    {
     "data": {
      "text/plain": [
       "array([[0.58, 0.21, 0.21]])"
      ]
     },
     "execution_count": 12,
     "metadata": {},
     "output_type": "execute_result"
    }
   ],
   "source": [
    "np.round(softmax([[10, 9, 9]]), 2)"
   ]
  },
  {
   "cell_type": "code",
   "execution_count": 13,
   "id": "12c528be",
   "metadata": {},
   "outputs": [
    {
     "data": {
      "text/plain": [
       "array([[-1.25331661, -0.14296762,  0.77301799, -1.52745534,  1.12005415]])"
      ]
     },
     "execution_count": 13,
     "metadata": {},
     "output_type": "execute_result"
    }
   ],
   "source": [
    "x = np.random.randn(1, 5)\n",
    "x"
   ]
  },
  {
   "cell_type": "code",
   "execution_count": 14,
   "id": "d2d49f4c",
   "metadata": {},
   "outputs": [
    {
     "data": {
      "text/plain": [
       "array([[0.04326123, 0.1313159 , 0.3281896 , 0.03288834, 0.46434493]])"
      ]
     },
     "execution_count": 14,
     "metadata": {},
     "output_type": "execute_result"
    }
   ],
   "source": [
    "softmax(x)"
   ]
  },
  {
   "cell_type": "markdown",
   "id": "0301525d",
   "metadata": {},
   "source": [
    "## dataset prep"
   ]
  },
  {
   "cell_type": "code",
   "execution_count": 15,
   "id": "c2bbc684",
   "metadata": {},
   "outputs": [
    {
     "data": {
      "text/plain": [
       "array([ 0.,  0.,  5., 13.,  9.,  1.,  0.,  0.,  0.,  0., 13., 15., 10.,\n",
       "       15.,  5.,  0.,  0.,  3., 15.,  2.,  0., 11.,  8.,  0.,  0.,  4.,\n",
       "       12.,  0.,  0.,  8.,  8.,  0.,  0.,  5.,  8.,  0.,  0.,  9.,  8.,\n",
       "        0.,  0.,  4., 11.,  0.,  1., 12.,  7.,  0.,  0.,  2., 14.,  5.,\n",
       "       10., 12.,  0.,  0.,  0.,  0.,  6., 13., 10.,  0.,  0.,  0.])"
      ]
     },
     "execution_count": 15,
     "metadata": {},
     "output_type": "execute_result"
    }
   ],
   "source": [
    "digits = load_digits()\n",
    "digits.data[0]"
   ]
  },
  {
   "cell_type": "code",
   "execution_count": 16,
   "id": "f5d9e382",
   "metadata": {},
   "outputs": [
    {
     "data": {
      "text/plain": [
       "(1797, 64)"
      ]
     },
     "execution_count": 16,
     "metadata": {},
     "output_type": "execute_result"
    }
   ],
   "source": [
    "digits.data.shape"
   ]
  },
  {
   "cell_type": "code",
   "execution_count": 17,
   "id": "4d06804b",
   "metadata": {},
   "outputs": [
    {
     "data": {
      "text/plain": [
       "array([0, 1, 2, ..., 8, 9, 8])"
      ]
     },
     "execution_count": 17,
     "metadata": {},
     "output_type": "execute_result"
    }
   ],
   "source": [
    "digits.target"
   ]
  },
  {
   "cell_type": "code",
   "execution_count": 18,
   "id": "ea2028b4",
   "metadata": {},
   "outputs": [
    {
     "data": {
      "image/png": "[encoded data removed]",
      "text/plain": [
       "<Figure size 480x480 with 1 Axes>"
      ]
     },
     "metadata": {},
     "output_type": "display_data"
    }
   ],
   "source": [
    "plt.matshow(digits.images[0])\n",
    "plt.show()"
   ]
  },
  {
   "cell_type": "code",
   "execution_count": 19,
   "id": "06f01dfc",
   "metadata": {},
   "outputs": [
    {
     "data": {
      "text/plain": [
       "16.0"
      ]
     },
     "execution_count": 19,
     "metadata": {},
     "output_type": "execute_result"
    }
   ],
   "source": [
    "np.max(digits.data)"
   ]
  },
  {
   "cell_type": "code",
   "execution_count": 20,
   "id": "15ce46ac",
   "metadata": {},
   "outputs": [
    {
     "data": {
      "text/plain": [
       "array([[0.    , 0.    , 0.3125, ..., 0.    , 0.    , 0.    ],\n",
       "       [0.    , 0.    , 0.    , ..., 0.625 , 0.    , 0.    ],\n",
       "       [0.    , 0.    , 0.    , ..., 1.    , 0.5625, 0.    ],\n",
       "       ...,\n",
       "       [0.    , 0.    , 0.0625, ..., 0.375 , 0.    , 0.    ],\n",
       "       [0.    , 0.    , 0.125 , ..., 0.75  , 0.    , 0.    ],\n",
       "       [0.    , 0.    , 0.625 , ..., 0.75  , 0.0625, 0.    ]])"
      ]
     },
     "execution_count": 20,
     "metadata": {},
     "output_type": "execute_result"
    }
   ],
   "source": [
    "# normalize input range to [0, 1]\n",
    "X = digits.data / 16\n",
    "X"
   ]
  },
  {
   "cell_type": "code",
   "execution_count": 21,
   "id": "8541cde6",
   "metadata": {},
   "outputs": [
    {
     "data": {
      "text/plain": [
       "(1797, 64)"
      ]
     },
     "execution_count": 21,
     "metadata": {},
     "output_type": "execute_result"
    }
   ],
   "source": [
    "X.shape"
   ]
  },
  {
   "cell_type": "code",
   "execution_count": 22,
   "id": "e7c78dd9",
   "metadata": {},
   "outputs": [],
   "source": [
    "INPUT_DIM = X.shape[1]"
   ]
  },
  {
   "cell_type": "code",
   "execution_count": 23,
   "id": "73acbe86",
   "metadata": {},
   "outputs": [
    {
     "data": {
      "text/plain": [
       "array([[1., 0., 0., ..., 0., 0., 0.],\n",
       "       [0., 1., 0., ..., 0., 0., 0.],\n",
       "       [0., 0., 1., ..., 0., 0., 0.],\n",
       "       ...,\n",
       "       [0., 0., 0., ..., 0., 1., 0.],\n",
       "       [0., 0., 0., ..., 0., 0., 1.],\n",
       "       [0., 0., 0., ..., 0., 1., 0.]])"
      ]
     },
     "execution_count": 23,
     "metadata": {},
     "output_type": "execute_result"
    }
   ],
   "source": [
    "onehot = OneHotEncoder(sparse=False)\n",
    "Y = onehot.fit_transform(digits.target.reshape(-1, 1))\n",
    "Y"
   ]
  },
  {
   "cell_type": "code",
   "execution_count": 24,
   "id": "0b470655",
   "metadata": {},
   "outputs": [
    {
     "data": {
      "text/plain": [
       "(1797, 10)"
      ]
     },
     "execution_count": 24,
     "metadata": {},
     "output_type": "execute_result"
    }
   ],
   "source": [
    "Y.shape"
   ]
  },
  {
   "cell_type": "code",
   "execution_count": 25,
   "id": "d8eaa0a6",
   "metadata": {},
   "outputs": [],
   "source": [
    "OUTPUT_DIM = Y.shape[1]"
   ]
  },
  {
   "cell_type": "code",
   "execution_count": null,
   "id": "65eedc06",
   "metadata": {},
   "outputs": [],
   "source": []
  },
  {
   "cell_type": "code",
   "execution_count": 26,
   "id": "f55eca95",
   "metadata": {},
   "outputs": [],
   "source": [
    "X_train, X_test, Y_train, Y_test = train_test_split(\n",
    "    X, Y, random_state=4711, test_size=.1)"
   ]
  },
  {
   "cell_type": "code",
   "execution_count": 27,
   "id": "914a1c46",
   "metadata": {},
   "outputs": [
    {
     "data": {
      "text/plain": [
       "((1617, 64), (180, 64), (1617, 10), (180, 10))"
      ]
     },
     "execution_count": 27,
     "metadata": {},
     "output_type": "execute_result"
    }
   ],
   "source": [
    "X_train.shape, X_test.shape, Y_train.shape, Y_test.shape"
   ]
  },
  {
   "cell_type": "code",
   "execution_count": null,
   "id": "a387da2d",
   "metadata": {},
   "outputs": [],
   "source": []
  },
  {
   "cell_type": "markdown",
   "id": "15a7a11f",
   "metadata": {},
   "source": [
    "## Simple 1 Hidden Layer NN\n",
    "\n",
    "Let's create a simple NN with input layer, 1 hidden layer and output layer."
   ]
  },
  {
   "cell_type": "code",
   "execution_count": 28,
   "id": "8c3e24dc",
   "metadata": {},
   "outputs": [],
   "source": [
    "HIDDEN_UNITS = 20"
   ]
  },
  {
   "cell_type": "markdown",
   "id": "4882f330",
   "metadata": {},
   "source": [
    "### Init weights"
   ]
  },
  {
   "cell_type": "code",
   "execution_count": 29,
   "id": "01291846",
   "metadata": {},
   "outputs": [],
   "source": [
    "W1 = np.random.randn(INPUT_DIM, HIDDEN_UNITS)  # from input to hidden layer\n",
    "W2 = np.random.randn(W1.shape[1], OUTPUT_DIM)  # from hidden to output layer\n",
    "\n",
    "B1 = np.random.randn(1, W1.shape[1])  # biases for hidden layer neurons\n",
    "B2 = np.random.randn(1, W2.shape[1])  # biases for output layer neurons"
   ]
  },
  {
   "cell_type": "markdown",
   "id": "49e99584",
   "metadata": {},
   "source": [
    "### Forward pass"
   ]
  },
  {
   "cell_type": "code",
   "execution_count": 30,
   "id": "04157ec4",
   "metadata": {},
   "outputs": [],
   "source": [
    "# get the first batch of our train data (should normally also shuffle!)\n",
    "BATCH_SIZE = 32\n",
    "X_batch, Y_batch = X_train[0:BATCH_SIZE], Y_train[0:BATCH_SIZE]"
   ]
  },
  {
   "cell_type": "code",
   "execution_count": 31,
   "id": "0e8eec32",
   "metadata": {},
   "outputs": [
    {
     "data": {
      "text/plain": [
       "(32, 20)"
      ]
     },
     "execution_count": 31,
     "metadata": {},
     "output_type": "execute_result"
    }
   ],
   "source": [
    "# hidden layer inputs\n",
    "Z1 = np.dot(X_batch, W1) + B1\n",
    "Z1.shape"
   ]
  },
  {
   "cell_type": "code",
   "execution_count": 32,
   "id": "e6d8ff21",
   "metadata": {},
   "outputs": [],
   "source": [
    "# activation functions\n",
    "\n",
    "# def relu(x):\n",
    "#     return np.maximum(0, x)\n",
    "\n",
    "# def softmax(x):\n",
    "#     return np.exp(x) / np.sum(np.exp(x), axis=1).reshape(-1, 1)\n",
    "\n",
    "def sigmoid(x):\n",
    "    return 1 / (1 + np.exp(-x))\n"
   ]
  },
  {
   "cell_type": "code",
   "execution_count": 33,
   "id": "85b4ab8e",
   "metadata": {},
   "outputs": [
    {
     "data": {
      "text/plain": [
       "(32, 20)"
      ]
     },
     "execution_count": 33,
     "metadata": {},
     "output_type": "execute_result"
    }
   ],
   "source": [
    "# hidden layer output activations\n",
    "A1 = sigmoid(Z1)\n",
    "A1.shape"
   ]
  },
  {
   "cell_type": "code",
   "execution_count": 34,
   "id": "c47681b1",
   "metadata": {},
   "outputs": [
    {
     "data": {
      "text/plain": [
       "(32, 10)"
      ]
     },
     "execution_count": 34,
     "metadata": {},
     "output_type": "execute_result"
    }
   ],
   "source": [
    "# output layer inputs\n",
    "Z2 = np.dot(A1, W2) + B2\n",
    "Z2.shape"
   ]
  },
  {
   "cell_type": "code",
   "execution_count": 35,
   "id": "119bbfc7",
   "metadata": {},
   "outputs": [
    {
     "data": {
      "text/plain": [
       "(32, 10)"
      ]
     },
     "execution_count": 35,
     "metadata": {},
     "output_type": "execute_result"
    }
   ],
   "source": [
    "# output layer activations\n",
    "A2 = sigmoid(Z2)\n",
    "Y_hat = A2\n",
    "A2.shape"
   ]
  },
  {
   "cell_type": "code",
   "execution_count": 36,
   "id": "64be5202",
   "metadata": {
    "scrolled": false
   },
   "outputs": [
    {
     "data": {
      "text/plain": [
       "array([[0.27, 0.73, 0.04, 0.55, 0.01, 0.47, 0.36, 0.03, 0.93, 0.02],\n",
       "       [0.19, 0.97, 0.07, 0.64, 0.03, 0.29, 0.31, 0.02, 0.77, 0.01],\n",
       "       [0.14, 0.6 , 0.01, 0.8 , 0.05, 0.83, 0.89, 0.03, 0.89, 0.02],\n",
       "       [0.16, 0.56, 0.01, 0.81, 0.06, 0.43, 0.86, 0.01, 0.92, 0.01],\n",
       "       [0.15, 0.57, 0.  , 0.94, 0.04, 0.72, 0.81, 0.01, 0.87, 0.01],\n",
       "       [0.04, 0.71, 0.03, 0.63, 0.01, 0.39, 0.76, 0.02, 0.89, 0.02],\n",
       "       [0.07, 0.84, 0.01, 0.86, 0.1 , 0.18, 0.76, 0.02, 0.97, 0.02],\n",
       "       [0.28, 0.79, 0.01, 0.87, 0.05, 0.37, 0.73, 0.01, 0.88, 0.01],\n",
       "       [0.08, 0.94, 0.06, 0.72, 0.08, 0.27, 0.77, 0.02, 0.76, 0.01],\n",
       "       [0.2 , 0.76, 0.01, 0.91, 0.06, 0.71, 0.87, 0.07, 0.85, 0.03],\n",
       "       [0.31, 0.94, 0.05, 0.73, 0.05, 0.55, 0.73, 0.01, 0.74, 0.02],\n",
       "       [0.02, 0.96, 0.01, 0.8 , 0.03, 0.46, 0.97, 0.02, 0.89, 0.03],\n",
       "       [0.08, 0.75, 0.01, 0.89, 0.05, 0.36, 0.87, 0.01, 0.89, 0.01],\n",
       "       [0.51, 0.95, 0.  , 0.93, 0.13, 0.84, 0.88, 0.02, 0.8 , 0.01],\n",
       "       [0.25, 0.92, 0.03, 0.82, 0.03, 0.57, 0.69, 0.02, 0.85, 0.02],\n",
       "       [0.32, 0.94, 0.01, 0.86, 0.13, 0.74, 0.87, 0.03, 0.73, 0.03],\n",
       "       [0.5 , 0.95, 0.  , 0.94, 0.03, 0.79, 0.76, 0.02, 0.88, 0.01],\n",
       "       [0.2 , 0.59, 0.13, 0.33, 0.02, 0.36, 0.24, 0.02, 0.94, 0.02],\n",
       "       [0.51, 0.68, 0.  , 0.97, 0.04, 0.85, 0.74, 0.07, 0.9 , 0.01],\n",
       "       [0.38, 0.84, 0.01, 0.83, 0.13, 0.68, 0.89, 0.02, 0.81, 0.01],\n",
       "       [0.07, 0.94, 0.04, 0.89, 0.06, 0.51, 0.56, 0.01, 0.73, 0.03],\n",
       "       [0.1 , 0.86, 0.08, 0.75, 0.11, 0.72, 0.83, 0.05, 0.71, 0.05],\n",
       "       [0.59, 0.95, 0.  , 0.97, 0.05, 0.82, 0.76, 0.03, 0.86, 0.01],\n",
       "       [0.26, 0.94, 0.02, 0.71, 0.07, 0.37, 0.78, 0.01, 0.76, 0.01],\n",
       "       [0.27, 0.97, 0.  , 0.96, 0.09, 0.72, 0.83, 0.02, 0.82, 0.01],\n",
       "       [0.34, 0.97, 0.01, 0.85, 0.03, 0.61, 0.64, 0.05, 0.78, 0.03],\n",
       "       [0.2 , 0.36, 0.02, 0.64, 0.04, 0.41, 0.72, 0.01, 0.89, 0.01],\n",
       "       [0.09, 0.83, 0.03, 0.79, 0.07, 0.35, 0.83, 0.01, 0.82, 0.01],\n",
       "       [0.26, 0.49, 0.  , 0.96, 0.1 , 0.65, 0.77, 0.06, 0.82, 0.02],\n",
       "       [0.39, 0.94, 0.  , 0.98, 0.06, 0.85, 0.9 , 0.01, 0.79, 0.01],\n",
       "       [0.18, 0.96, 0.13, 0.51, 0.07, 0.37, 0.71, 0.02, 0.58, 0.02],\n",
       "       [0.23, 0.97, 0.02, 0.77, 0.02, 0.59, 0.61, 0.05, 0.8 , 0.03]])"
      ]
     },
     "execution_count": 36,
     "metadata": {},
     "output_type": "execute_result"
    }
   ],
   "source": [
    "# so for our 32 samples in the batch (rows) we now have the output\n",
    "# activations for each of the 10 output neurons (columns)\n",
    "np.round(Y_hat, 2)"
   ]
  },
  {
   "cell_type": "code",
   "execution_count": 37,
   "id": "be8eaa46",
   "metadata": {
    "scrolled": false
   },
   "outputs": [
    {
     "data": {
      "text/plain": [
       "array([[0., 0., 0., 0., 1., 0., 0., 0., 0., 0.],\n",
       "       [0., 0., 0., 0., 1., 0., 0., 0., 0., 0.],\n",
       "       [0., 0., 0., 0., 0., 0., 0., 1., 0., 0.],\n",
       "       [0., 0., 0., 0., 0., 0., 0., 0., 1., 0.],\n",
       "       [0., 0., 1., 0., 0., 0., 0., 0., 0., 0.],\n",
       "       [0., 1., 0., 0., 0., 0., 0., 0., 0., 0.],\n",
       "       [0., 0., 0., 0., 1., 0., 0., 0., 0., 0.],\n",
       "       [0., 1., 0., 0., 0., 0., 0., 0., 0., 0.],\n",
       "       [0., 1., 0., 0., 0., 0., 0., 0., 0., 0.],\n",
       "       [0., 0., 0., 0., 0., 0., 1., 0., 0., 0.],\n",
       "       [0., 0., 0., 0., 0., 0., 0., 0., 0., 1.],\n",
       "       [0., 0., 0., 0., 0., 0., 1., 0., 0., 0.],\n",
       "       [0., 1., 0., 0., 0., 0., 0., 0., 0., 0.],\n",
       "       [0., 0., 0., 1., 0., 0., 0., 0., 0., 0.],\n",
       "       [0., 0., 0., 0., 0., 0., 0., 0., 1., 0.],\n",
       "       [0., 0., 0., 1., 0., 0., 0., 0., 0., 0.],\n",
       "       [1., 0., 0., 0., 0., 0., 0., 0., 0., 0.],\n",
       "       [0., 0., 0., 0., 1., 0., 0., 0., 0., 0.],\n",
       "       [0., 0., 0., 0., 0., 0., 1., 0., 0., 0.],\n",
       "       [0., 0., 0., 1., 0., 0., 0., 0., 0., 0.],\n",
       "       [0., 0., 0., 0., 0., 0., 1., 0., 0., 0.],\n",
       "       [0., 1., 0., 0., 0., 0., 0., 0., 0., 0.],\n",
       "       [1., 0., 0., 0., 0., 0., 0., 0., 0., 0.],\n",
       "       [0., 0., 0., 1., 0., 0., 0., 0., 0., 0.],\n",
       "       [0., 0., 0., 0., 1., 0., 0., 0., 0., 0.],\n",
       "       [0., 0., 0., 0., 0., 0., 1., 0., 0., 0.],\n",
       "       [0., 0., 0., 0., 0., 0., 0., 1., 0., 0.],\n",
       "       [0., 1., 0., 0., 0., 0., 0., 0., 0., 0.],\n",
       "       [0., 0., 0., 0., 0., 0., 0., 1., 0., 0.],\n",
       "       [0., 0., 1., 0., 0., 0., 0., 0., 0., 0.],\n",
       "       [0., 0., 0., 1., 0., 0., 0., 0., 0., 0.],\n",
       "       [0., 0., 0., 0., 0., 0., 1., 0., 0., 0.]])"
      ]
     },
     "execution_count": 37,
     "metadata": {},
     "output_type": "execute_result"
    }
   ],
   "source": [
    "Y_batch"
   ]
  },
  {
   "cell_type": "markdown",
   "id": "ff2c0dac",
   "metadata": {},
   "source": [
    "### Error calculation"
   ]
  },
  {
   "cell_type": "code",
   "execution_count": 38,
   "id": "52d0273b",
   "metadata": {
    "scrolled": false
   },
   "outputs": [
    {
     "data": {
      "text/plain": [
       "array([[ 0.3,  0.7,  0. ,  0.5, -1. ,  0.5,  0.4,  0. ,  0.9,  0. ],\n",
       "       [ 0.2,  1. ,  0.1,  0.6, -1. ,  0.3,  0.3,  0. ,  0.8,  0. ],\n",
       "       [ 0.1,  0.6,  0. ,  0.8,  0. ,  0.8,  0.9, -1. ,  0.9,  0. ],\n",
       "       [ 0.2,  0.6,  0. ,  0.8,  0.1,  0.4,  0.9,  0. , -0.1,  0. ],\n",
       "       [ 0.2,  0.6, -1. ,  0.9,  0. ,  0.7,  0.8,  0. ,  0.9,  0. ],\n",
       "       [ 0. , -0.3,  0. ,  0.6,  0. ,  0.4,  0.8,  0. ,  0.9,  0. ],\n",
       "       [ 0.1,  0.8,  0. ,  0.9, -0.9,  0.2,  0.8,  0. ,  1. ,  0. ],\n",
       "       [ 0.3, -0.2,  0. ,  0.9,  0.1,  0.4,  0.7,  0. ,  0.9,  0. ],\n",
       "       [ 0.1, -0.1,  0.1,  0.7,  0.1,  0.3,  0.8,  0. ,  0.8,  0. ],\n",
       "       [ 0.2,  0.8,  0. ,  0.9,  0.1,  0.7, -0.1,  0.1,  0.8,  0. ],\n",
       "       [ 0.3,  0.9,  0. ,  0.7,  0. ,  0.5,  0.7,  0. ,  0.7, -1. ],\n",
       "       [ 0. ,  1. ,  0. ,  0.8,  0. ,  0.5, -0. ,  0. ,  0.9,  0. ],\n",
       "       [ 0.1, -0.3,  0. ,  0.9,  0.1,  0.4,  0.9,  0. ,  0.9,  0. ],\n",
       "       [ 0.5,  1. ,  0. , -0.1,  0.1,  0.8,  0.9,  0. ,  0.8,  0. ],\n",
       "       [ 0.2,  0.9,  0. ,  0.8,  0. ,  0.6,  0.7,  0. , -0.1,  0. ],\n",
       "       [ 0.3,  0.9,  0. , -0.1,  0.1,  0.7,  0.9,  0. ,  0.7,  0. ],\n",
       "       [-0.5,  0.9,  0. ,  0.9,  0. ,  0.8,  0.8,  0. ,  0.9,  0. ],\n",
       "       [ 0.2,  0.6,  0.1,  0.3, -1. ,  0.4,  0.2,  0. ,  0.9,  0. ],\n",
       "       [ 0.5,  0.7,  0. ,  1. ,  0. ,  0.9, -0.3,  0.1,  0.9,  0. ],\n",
       "       [ 0.4,  0.8,  0. , -0.2,  0.1,  0.7,  0.9,  0. ,  0.8,  0. ],\n",
       "       [ 0.1,  0.9,  0. ,  0.9,  0.1,  0.5, -0.4,  0. ,  0.7,  0. ],\n",
       "       [ 0.1, -0.1,  0.1,  0.8,  0.1,  0.7,  0.8,  0. ,  0.7,  0.1],\n",
       "       [-0.4,  1. ,  0. ,  1. ,  0.1,  0.8,  0.8,  0. ,  0.9,  0. ],\n",
       "       [ 0.3,  0.9,  0. , -0.3,  0.1,  0.4,  0.8,  0. ,  0.8,  0. ],\n",
       "       [ 0.3,  1. ,  0. ,  1. , -0.9,  0.7,  0.8,  0. ,  0.8,  0. ],\n",
       "       [ 0.3,  1. ,  0. ,  0.9,  0. ,  0.6, -0.4,  0.1,  0.8,  0. ],\n",
       "       [ 0.2,  0.4,  0. ,  0.6,  0. ,  0.4,  0.7, -1. ,  0.9,  0. ],\n",
       "       [ 0.1, -0.2,  0. ,  0.8,  0.1,  0.3,  0.8,  0. ,  0.8,  0. ],\n",
       "       [ 0.3,  0.5,  0. ,  1. ,  0.1,  0.7,  0.8, -0.9,  0.8,  0. ],\n",
       "       [ 0.4,  0.9, -1. ,  1. ,  0.1,  0.8,  0.9,  0. ,  0.8,  0. ],\n",
       "       [ 0.2,  1. ,  0.1, -0.5,  0.1,  0.4,  0.7,  0. ,  0.6,  0. ],\n",
       "       [ 0.2,  1. ,  0. ,  0.8,  0. ,  0.6, -0.4,  0. ,  0.8,  0. ]])"
      ]
     },
     "execution_count": 38,
     "metadata": {},
     "output_type": "execute_result"
    }
   ],
   "source": [
    "Errors = Y_hat - Y_batch\n",
    "np.round(Errors, 1)"
   ]
  },
  {
   "cell_type": "markdown",
   "id": "ad3c4d73",
   "metadata": {},
   "source": [
    "### Backpropagation"
   ]
  },
  {
   "cell_type": "code",
   "execution_count": 39,
   "id": "21481c54",
   "metadata": {},
   "outputs": [],
   "source": [
    "# next time"
   ]
  }
 ],
 "metadata": {
  "kernelspec": {
   "display_name": "Python 3 (ipykernel)",
   "language": "python",
   "name": "python3"
  },
  "language_info": {
   "codemirror_mode": {
    "name": "ipython",
    "version": 3
   },
   "file_extension": ".py",
   "mimetype": "text/x-python",
   "name": "python",
   "nbconvert_exporter": "python",
   "pygments_lexer": "ipython3",
   "version": "3.10.6"
  },
  "toc": {
   "base_numbering": 1,
   "nav_menu": {},
   "number_sections": false,
   "sideBar": true,
   "skip_h1_title": false,
   "title_cell": "Table of Contents",
   "title_sidebar": "Contents",
   "toc_cell": false,
   "toc_position": {
    "height": "calc(100% - 180px)",
    "left": "10px",
    "top": "150px",
    "width": "328.797px"
   },
   "toc_section_display": true,
   "toc_window_display": false
  }
 },
 "nbformat": 4,
 "nbformat_minor": 5
}
